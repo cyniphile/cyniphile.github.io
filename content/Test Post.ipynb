{
 "cells": [
  {
   "cell_type": "markdown",
   "metadata": {},
   "source": [
    "# Post\n",
    "\n",
    "Hey there people. \n",
    "\n",
    "- This is a test of things\n",
    "- like lists\n",
    "    - and sublists\n",
    "        - and this\n",
    "        \n",
    " And importantly $e^x + \\lambda$\n",
    "        \n",
    " "
   ]
  },
  {
   "cell_type": "code",
   "execution_count": 2,
   "metadata": {},
   "outputs": [
    {
     "name": "stdout",
     "output_type": "stream",
     "text": [
      "this is some code\n",
      "this is some code\n",
      "this is some code\n",
      "this is some code\n",
      "this is some code\n",
      "this is some code\n",
      "this is some code\n",
      "this is some code\n",
      "this is some code\n",
      "this is some code\n"
     ]
    }
   ],
   "source": [
    "for i in range(10):\n",
    "    print(\"this is some code\")"
   ]
  },
  {
   "cell_type": "code",
   "execution_count": null,
   "metadata": {},
   "outputs": [],
   "source": []
  }
 ],
 "metadata": {
  "kernelspec": {
   "display_name": "Python 3",
   "language": "python",
   "name": "python3"
  },
  "language_info": {
   "codemirror_mode": {
    "name": "ipython",
    "version": 3
   },
   "file_extension": ".py",
   "mimetype": "text/x-python",
   "name": "python",
   "nbconvert_exporter": "python",
   "pygments_lexer": "ipython3",
   "version": "3.7.0"
  }
 },
 "nbformat": 4,
 "nbformat_minor": 2
}
